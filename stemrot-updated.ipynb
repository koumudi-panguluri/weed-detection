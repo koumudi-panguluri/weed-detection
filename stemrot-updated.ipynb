{
 "cells": [
  {
   "cell_type": "code",
   "execution_count": 1,
   "metadata": {
    "_cell_guid": "b1076dfc-b9ad-4769-8c92-a6c4dae69d19",
    "_uuid": "8f2839f25d086af736a60e9eeb907d3b93b6e0e5"
   },
   "outputs": [
    {
     "name": "stdout",
     "output_type": "stream",
     "text": [
      "/kaggle/input/stemsets/images/img100.jpg\n",
      "/kaggle/input/stemsets/images/img61.jpg\n",
      "/kaggle/input/stemsets/images/img44.jpg\n",
      "/kaggle/input/stemsets/images/img31.jpg\n",
      "/kaggle/input/stemsets/images/img11.jpg\n",
      "/kaggle/input/stemsets/images/img19.jpg\n",
      "/kaggle/input/stemsets/images/img18.jpg\n",
      "/kaggle/input/stemsets/images/gimg134.jpg\n",
      "/kaggle/input/stemsets/images/gimg143.jpg\n",
      "/kaggle/input/stemsets/images/img83.jpg\n",
      "/kaggle/input/stemsets/images/gimg103.jpg\n",
      "/kaggle/input/stemsets/images/gimg106.jpg\n",
      "/kaggle/input/stemsets/images/img74.jpg\n",
      "/kaggle/input/stemsets/images/img62.jpg\n",
      "/kaggle/input/stemsets/images/gimg144.jpg\n",
      "/kaggle/input/stemsets/images/gimg166.jpg\n",
      "/kaggle/input/stemsets/images/img34.jpg\n",
      "/kaggle/input/stemsets/images/gimg120.jpg\n",
      "/kaggle/input/stemsets/images/img5.jpg\n",
      "/kaggle/input/stemsets/images/img54.jpg\n",
      "/kaggle/input/stemsets/images/img36.jpg\n",
      "/kaggle/input/stemsets/images/img57.jpg\n",
      "/kaggle/input/stemsets/images/gimg185.jpg\n",
      "/kaggle/input/stemsets/images/img53.jpg\n",
      "/kaggle/input/stemsets/images/img25.jpg\n",
      "/kaggle/input/stemsets/images/img71.jpg\n",
      "/kaggle/input/stemsets/images/gimg125.jpg\n",
      "/kaggle/input/stemsets/images/img80.jpg\n",
      "/kaggle/input/stemsets/images/gimg126.jpg\n",
      "/kaggle/input/stemsets/images/gimg132.jpg\n",
      "/kaggle/input/stemsets/images/img51.jpg\n",
      "/kaggle/input/stemsets/images/gimg124.jpg\n",
      "/kaggle/input/stemsets/images/gimg114.jpg\n",
      "/kaggle/input/stemsets/images/gimg195.jpg\n",
      "/kaggle/input/stemsets/images/gimg189.jpg\n",
      "/kaggle/input/stemsets/images/gimg153.jpg\n",
      "/kaggle/input/stemsets/images/gimg190.jpg\n",
      "/kaggle/input/stemsets/images/img81.jpg\n",
      "/kaggle/input/stemsets/images/gimg183.jpg\n",
      "/kaggle/input/stemsets/images/img91.jpg\n",
      "/kaggle/input/stemsets/images/gimg148.jpg\n",
      "/kaggle/input/stemsets/images/gimg184.jpg\n",
      "/kaggle/input/stemsets/images/img59.jpg\n",
      "/kaggle/input/stemsets/images/gimg117.jpg\n",
      "/kaggle/input/stemsets/images/gimg109.jpg\n",
      "/kaggle/input/stemsets/images/img87.jpg\n",
      "/kaggle/input/stemsets/images/img43.jpg\n",
      "/kaggle/input/stemsets/images/gimg171.jpg\n",
      "/kaggle/input/stemsets/images/img16.jpg\n",
      "/kaggle/input/stemsets/images/img14.jpg\n",
      "/kaggle/input/stemsets/images/gimg168.jpg\n",
      "/kaggle/input/stemsets/images/img93.jpg\n",
      "/kaggle/input/stemsets/images/gimg135.jpg\n",
      "/kaggle/input/stemsets/images/gimg193.jpg\n",
      "/kaggle/input/stemsets/images/img63.jpg\n",
      "/kaggle/input/stemsets/images/img76.jpg\n",
      "/kaggle/input/stemsets/images/gimg160.jpg\n",
      "/kaggle/input/stemsets/images/gimg140.jpg\n",
      "/kaggle/input/stemsets/images/gimg178.jpg\n",
      "/kaggle/input/stemsets/images/gimg167.jpg\n",
      "/kaggle/input/stemsets/images/img78.jpg\n",
      "/kaggle/input/stemsets/images/gimg113.jpg\n",
      "/kaggle/input/stemsets/images/img7.jpg\n",
      "/kaggle/input/stemsets/images/img2.jpg\n",
      "/kaggle/input/stemsets/images/img49.jpg\n",
      "/kaggle/input/stemsets/images/gimg157.jpg\n",
      "/kaggle/input/stemsets/images/img10.jpg\n",
      "/kaggle/input/stemsets/images/img20.jpg\n",
      "/kaggle/input/stemsets/images/gimg147.jpg\n",
      "/kaggle/input/stemsets/images/img9.jpg\n",
      "/kaggle/input/stemsets/images/img26.jpg\n",
      "/kaggle/input/stemsets/images/gimg137.jpg\n",
      "/kaggle/input/stemsets/images/img1.jpg\n",
      "/kaggle/input/stemsets/images/gimg133.jpg\n",
      "/kaggle/input/stemsets/images/gimg119.jpg\n",
      "/kaggle/input/stemsets/images/gimg194.jpeg\n",
      "/kaggle/input/stemsets/images/gimg107.jpg\n",
      "/kaggle/input/stemsets/images/gimg116.jpg\n",
      "/kaggle/input/stemsets/images/gimg141.jpg\n",
      "/kaggle/input/stemsets/images/img13.jpg\n",
      "/kaggle/input/stemsets/images/gimg200.jpg\n",
      "/kaggle/input/stemsets/images/img65.jpg\n",
      "/kaggle/input/stemsets/images/gimg112.jpg\n",
      "/kaggle/input/stemsets/images/gimg115.jpg\n",
      "/kaggle/input/stemsets/images/gimg182.JPG\n",
      "/kaggle/input/stemsets/images/img72.jpg\n",
      "/kaggle/input/stemsets/images/img6.jpg\n",
      "/kaggle/input/stemsets/images/img48.jpg\n",
      "/kaggle/input/stemsets/images/img98.jpg\n",
      "/kaggle/input/stemsets/images/gimg101.jpg\n",
      "/kaggle/input/stemsets/images/gimg129.jpg\n",
      "/kaggle/input/stemsets/images/gimg105.jpg\n",
      "/kaggle/input/stemsets/images/gimg199.jpg\n",
      "/kaggle/input/stemsets/images/gimg131.jpg\n",
      "/kaggle/input/stemsets/images/gimg130.jpg\n",
      "/kaggle/input/stemsets/images/img58.jpg\n",
      "/kaggle/input/stemsets/images/img67.jpg\n",
      "/kaggle/input/stemsets/images/img66.jpg\n",
      "/kaggle/input/stemsets/images/gimg155.jpg\n",
      "/kaggle/input/stemsets/images/gimg127.jpg\n",
      "/kaggle/input/stemsets/images/gimg165.jpg\n",
      "/kaggle/input/stemsets/images/img90.jpg\n",
      "/kaggle/input/stemsets/images/img75.jpg\n",
      "/kaggle/input/stemsets/images/img30.jpg\n",
      "/kaggle/input/stemsets/images/img37.jpg\n",
      "/kaggle/input/stemsets/images/gimg142.jpg\n",
      "/kaggle/input/stemsets/images/gimg150.jpg\n",
      "/kaggle/input/stemsets/images/gimg151.jpg\n",
      "/kaggle/input/stemsets/images/img35.JPG\n",
      "/kaggle/input/stemsets/images/img70.jpg\n",
      "/kaggle/input/stemsets/images/img46.jpg\n",
      "/kaggle/input/stemsets/images/img77.jpg\n",
      "/kaggle/input/stemsets/images/img4.JPG\n",
      "/kaggle/input/stemsets/images/img39.jpg\n",
      "/kaggle/input/stemsets/images/img50.jpg\n",
      "/kaggle/input/stemsets/images/gimg138.jpg\n",
      "/kaggle/input/stemsets/images/gimg111.jpg\n",
      "/kaggle/input/stemsets/images/img28.jpg\n",
      "/kaggle/input/stemsets/images/gimg188.jpg\n",
      "/kaggle/input/stemsets/images/img69.jpg\n",
      "/kaggle/input/stemsets/images/img55.jpg\n",
      "/kaggle/input/stemsets/images/img60.jpg\n",
      "/kaggle/input/stemsets/images/gimg196.jpg\n",
      "/kaggle/input/stemsets/images/img17.jpg\n",
      "/kaggle/input/stemsets/images/img99.jpg\n",
      "/kaggle/input/stemsets/images/gimg175.jpg\n",
      "/kaggle/input/stemsets/images/gimg123.jpg\n",
      "/kaggle/input/stemsets/images/gimg136.jpg\n",
      "/kaggle/input/stemsets/images/gimg154.jpg\n",
      "/kaggle/input/stemsets/images/img86.jpg\n",
      "/kaggle/input/stemsets/images/img24.jpg\n",
      "/kaggle/input/stemsets/images/img45.jpg\n",
      "/kaggle/input/stemsets/images/gimg170.jpg\n",
      "/kaggle/input/stemsets/images/gimg102.jpg\n",
      "/kaggle/input/stemsets/images/img88.jpg\n",
      "/kaggle/input/stemsets/images/img68.jpg\n",
      "/kaggle/input/stemsets/images/img92.jpg\n",
      "/kaggle/input/stemsets/images/gimg169.jpg\n",
      "/kaggle/input/stemsets/images/img47.jpg\n",
      "/kaggle/input/stemsets/images/gimg162.jpg\n",
      "/kaggle/input/stemsets/images/gimg156.jpg\n",
      "/kaggle/input/stemsets/images/gimg177.jpg\n",
      "/kaggle/input/stemsets/images/gimg163.jpg\n",
      "/kaggle/input/stemsets/images/img32.jpg\n",
      "/kaggle/input/stemsets/images/img95.jpg\n",
      "/kaggle/input/stemsets/images/img41.jpg\n",
      "/kaggle/input/stemsets/images/img38.jpeg\n",
      "/kaggle/input/stemsets/images/gimg104.jpg\n",
      "/kaggle/input/stemsets/images/gimg192.jpg\n",
      "/kaggle/input/stemsets/images/img40.jpg\n",
      "/kaggle/input/stemsets/images/img3.jpg\n",
      "/kaggle/input/stemsets/images/gimg146.jpg\n",
      "/kaggle/input/stemsets/images/gimg179.jpg\n",
      "/kaggle/input/stemsets/images/gimg173.jpg\n",
      "/kaggle/input/stemsets/images/img22.jpg\n",
      "/kaggle/input/stemsets/images/gimg158.jpg\n",
      "/kaggle/input/stemsets/images/img21.jpg\n",
      "/kaggle/input/stemsets/images/img56.jpg\n",
      "/kaggle/input/stemsets/images/img79.jpg\n",
      "/kaggle/input/stemsets/images/gimg186.jpg\n",
      "/kaggle/input/stemsets/images/gimg191.jpg\n",
      "/kaggle/input/stemsets/images/img73.jpg\n",
      "/kaggle/input/stemsets/images/gimg145.jpg\n",
      "/kaggle/input/stemsets/images/gimg198.jpg\n",
      "/kaggle/input/stemsets/images/gimg181.jpg\n",
      "/kaggle/input/stemsets/images/gimg139.jpg\n",
      "/kaggle/input/stemsets/images/gimg121.jpg\n",
      "/kaggle/input/stemsets/images/gimg172.jpg\n",
      "/kaggle/input/stemsets/images/img64.jpg\n",
      "/kaggle/input/stemsets/images/gimg118.jpg\n",
      "/kaggle/input/stemsets/images/gimg128.jpg\n",
      "/kaggle/input/stemsets/images/gimg122.jpg\n",
      "/kaggle/input/stemsets/images/img84.jpg\n",
      "/kaggle/input/stemsets/images/img33.jpg\n",
      "/kaggle/input/stemsets/images/img94.jpg\n",
      "/kaggle/input/stemsets/images/img85.jpg\n",
      "/kaggle/input/stemsets/images/img12.jpg\n",
      "/kaggle/input/stemsets/images/img27.jpg\n",
      "/kaggle/input/stemsets/images/gimg174.jpg\n",
      "/kaggle/input/stemsets/images/gimg197.jpg\n",
      "/kaggle/input/stemsets/images/img52.jpg\n",
      "/kaggle/input/stemsets/images/img8.jpg\n",
      "/kaggle/input/stemsets/images/img89.jpg\n",
      "/kaggle/input/stemsets/images/gimg152.jpg\n",
      "/kaggle/input/stemsets/images/img97.jpg\n",
      "/kaggle/input/stemsets/images/gimg180.jpg\n",
      "/kaggle/input/stemsets/images/img82.jpg\n",
      "/kaggle/input/stemsets/images/gimg161.jpg\n",
      "/kaggle/input/stemsets/images/img96.jpg\n",
      "/kaggle/input/stemsets/images/img29.jpg\n",
      "/kaggle/input/stemsets/images/gimg164.jpg\n",
      "/kaggle/input/stemsets/images/img42.jpg\n",
      "/kaggle/input/stemsets/images/gimg149.jpg\n",
      "/kaggle/input/stemsets/images/gimg159.jpg\n",
      "/kaggle/input/stemsets/images/img23.jpg\n",
      "/kaggle/input/stemsets/images/gimg187.jpg\n",
      "/kaggle/input/stemsets/images/gimg108.jpg\n",
      "/kaggle/input/stemsets/images/img15.jpg\n",
      "/kaggle/input/stemsets/images/gimg176.jpg\n",
      "/kaggle/input/stemsets/images/gimg110.jpg\n"
     ]
    }
   ],
   "source": [
    "# This Python 3 environment comes with many helpful analytics libraries installed\n",
    "# It is defined by the kaggle/python docker image: https://github.com/kaggle/docker-python\n",
    "# For example, here's several helpful packages to load in \n",
    "\n",
    "import numpy as np # linear algebra\n",
    "import pandas as pd # data processing, CSV file I/O (e.g. pd.read_csv)\n",
    "\n",
    "# Input data files are available in the \"../input/\" directory.\n",
    "# For example, running this (by clicking run or pressing Shift+Enter) will list all files under the input directory\n",
    "\n",
    "import os\n",
    "for dirname, _, filenames in os.walk('/kaggle/input'):\n",
    "    for filename in filenames:\n",
    "        print(os.path.join(dirname, filename))\n",
    "\n",
    "# Any results you write to the current directory are saved as output."
   ]
  },
  {
   "cell_type": "code",
   "execution_count": 2,
   "metadata": {
    "_cell_guid": "79c7e3d0-c299-4dcb-8224-4455121ee9b0",
    "_uuid": "d629ff2d2480ee46fbb7e2d37f6b5fab8052498a"
   },
   "outputs": [
    {
     "name": "stdout",
     "output_type": "stream",
     "text": [
      "200\n"
     ]
    }
   ],
   "source": [
    "from os import listdir\n",
    "from os.path import isfile, join\n",
    "mypath=\"/kaggle/input/stemsets/images/\"\n",
    "file_names=[f for f in listdir(mypath) if isfile(join(mypath,f))]\n",
    "print(str(len(file_names)))"
   ]
  },
  {
   "cell_type": "code",
   "execution_count": 3,
   "metadata": {},
   "outputs": [
    {
     "name": "stdout",
     "output_type": "stream",
     "text": [
      "Training and Test Data Extraction Complete\n"
     ]
    }
   ],
   "source": [
    "import cv2\n",
    "import numpy as np\n",
    "import sys\n",
    "import os\n",
    "import shutil\n",
    "good_count = 0\n",
    "bad_count = 0\n",
    "training_size = 70\n",
    "test_size = 30\n",
    "training_images = []\n",
    "training_labels = []\n",
    "test_images = []\n",
    "test_labels = []\n",
    "size = 150\n",
    "good_dir_train = \"./kaggle/input/stemsets/train/good/\"\n",
    "bad_dir_train = \"./kaggle/input/stemsets/train/bad/\"\n",
    "good_dir_val = \"./kaggle/input/stemsets/validation/good/\"\n",
    "bad_dir_val = \"./kaggle/input/stemsets/validation/bad/\"\n",
    "\n",
    "def make_dir(directory):\n",
    "        if os.path.exists(directory):\n",
    "            shutil.rmtree(directory)\n",
    "        os.makedirs(directory)\n",
    "\n",
    "make_dir(good_dir_train)\n",
    "make_dir(bad_dir_train)\n",
    "make_dir(good_dir_val)\n",
    "make_dir(bad_dir_val)\n",
    "\n",
    "def getZeros(number):\n",
    "    if(number > 10 and number < 100):\n",
    "        return \"0\"\n",
    "    if(number < 10):\n",
    "        return \"00\"\n",
    "    else:\n",
    "        return \"\"\n",
    "\n",
    "for i, file in enumerate(file_names):\n",
    "    \n",
    "    if file_names[i][0] == \"g\":\n",
    "        good_count += 1\n",
    "        image = cv2.imread(mypath+file)\n",
    "        image = cv2.resize(image, (size, size), interpolation = cv2.INTER_AREA)\n",
    "        if good_count <= training_size:\n",
    "            training_images.append(image)\n",
    "            training_labels.append(1)\n",
    "            zeros = getZeros(good_count)\n",
    "            cv2.imwrite(good_dir_train + \"good\" + str(zeros) + str(good_count) + \".jpg\", image)\n",
    "        if good_count > training_size and good_count <= training_size+test_size:\n",
    "            test_images.append(image)\n",
    "            test_labels.append(1)\n",
    "            zeros = getZeros(good_count-100)\n",
    "            cv2.imwrite(good_dir_val + \"good\" + str(zeros) + str(100-good_count) + \".jpg\", image)\n",
    "            \n",
    "    if file_names[i][0] == \"i\":\n",
    "        bad_count += 1\n",
    "        image = cv2.imread(mypath+file)\n",
    "        image = cv2.resize(image, (size, size), interpolation = cv2.INTER_AREA)\n",
    "        if bad_count <= training_size:\n",
    "            training_images.append(image)\n",
    "            training_labels.append(0)\n",
    "            zeros = getZeros(bad_count)\n",
    "            cv2.imwrite(bad_dir_train + \"bad\" + str(zeros) + str(bad_count) + \".jpg\", image)\n",
    "        if bad_count > training_size and bad_count <= training_size+test_size:\n",
    "            test_images.append(image)\n",
    "            test_labels.append(0)\n",
    "            zeros = getZeros(bad_count-1000)\n",
    "            cv2.imwrite(bad_dir_val + \"bad\" + str(zeros) + str(100-bad_count) + \".jpg\", image)\n",
    "\n",
    "    if good_count == training_size+test_size and bad_count == training_size+test_size:\n",
    "        break\n",
    "\n",
    "print(\"Training and Test Data Extraction Complete\")"
   ]
  },
  {
   "cell_type": "code",
   "execution_count": 4,
   "metadata": {},
   "outputs": [],
   "source": [
    "np.savez('good_vs_bad_training_data.npz', np.array(training_images))\n",
    "np.savez('good_vs_bad_training_labels.npz', np.array(training_labels))\n",
    "np.savez('good_vs_bad_test_data.npz', np.array(test_images))\n",
    "np.savez('good_vs_bad_test_labels.npz', np.array(test_labels))"
   ]
  },
  {
   "cell_type": "code",
   "execution_count": 5,
   "metadata": {},
   "outputs": [],
   "source": [
    "def load_data_training_and_test(datasetname):\n",
    "    \n",
    "    npzfile = np.load(datasetname + \"_training_data.npz\")\n",
    "    train = npzfile['arr_0']\n",
    "    \n",
    "    npzfile = np.load(datasetname + \"_training_labels.npz\")\n",
    "    train_labels = npzfile['arr_0']\n",
    "    \n",
    "    npzfile = np.load(datasetname + \"_test_data.npz\")\n",
    "    test = npzfile['arr_0']\n",
    "    \n",
    "    npzfile = np.load(datasetname + \"_test_labels.npz\")\n",
    "    test_labels = npzfile['arr_0']\n",
    "\n",
    "    return (train, train_labels), (test, test_labels)"
   ]
  },
  {
   "cell_type": "code",
   "execution_count": 6,
   "metadata": {},
   "outputs": [],
   "source": [
    "(x_train,y_train),(x_test,y_test)=load_data_training_and_test(\"good_vs_bad\")"
   ]
  },
  {
   "cell_type": "code",
   "execution_count": 7,
   "metadata": {},
   "outputs": [
    {
     "name": "stdout",
     "output_type": "stream",
     "text": [
      "(140, 150, 150, 3)\n",
      "(140,)\n",
      "(60, 150, 150, 3)\n",
      "(60,)\n"
     ]
    }
   ],
   "source": [
    "print(x_train.shape)\n",
    "print(y_train.shape)\n",
    "print(x_test.shape)\n",
    "print(y_test.shape)"
   ]
  },
  {
   "cell_type": "code",
   "execution_count": 8,
   "metadata": {},
   "outputs": [],
   "source": [
    "y_train=y_train.reshape(y_train.shape[0],1)\n",
    "y_test=y_test.reshape(y_test.shape[0],1)\n",
    "x_train=x_train.astype('float32')\n",
    "x_test=x_test.astype('float32')\n",
    "x_train/=255\n",
    "x_test/=255"
   ]
  },
  {
   "cell_type": "code",
   "execution_count": 9,
   "metadata": {},
   "outputs": [
    {
     "name": "stderr",
     "output_type": "stream",
     "text": [
      "Using TensorFlow backend.\n"
     ]
    }
   ],
   "source": [
    "import cv2\n",
    "import sys\n",
    "from keras.layers import Dense, Dropout, Flatten, BatchNormalization, Activation\n",
    "from keras.layers.advanced_activations import ELU\n",
    "from keras.layers import Conv2D, MaxPooling2D\n",
    "from keras import backend as K\n",
    "from keras import optimizers\n",
    "from keras.models import Sequential \n",
    "from keras.models import load_model"
   ]
  },
  {
   "cell_type": "code",
   "execution_count": 10,
   "metadata": {},
   "outputs": [],
   "source": [
    "input_shape=(x_train[0].shape[0],x_train[1].shape[0],3)\n",
    "model=Sequential()\n",
    "model.add(Conv2D(32,kernel_size=(3,3),activation=\"relu\",input_shape=input_shape))\n",
    "model.add(Conv2D(32,kernel_size=(3,3),activation=\"relu\",input_shape=input_shape))\n",
    "model.add(Conv2D(64,(3,3),activation=\"relu\"))\n",
    "model.add(MaxPooling2D(pool_size=(2,2)))\n",
    "model.add(Flatten())\n",
    "model.add(Dense(64,activation=\"relu\"))\n",
    "model.add(Dropout(0.5))\n",
    "model.add(Dense(1,activation=\"sigmoid\"))\n",
    "model.compile(loss='binary_crossentropy',optimizer='rmsprop',metrics=['accuracy'])"
   ]
  },
  {
   "cell_type": "code",
   "execution_count": 11,
   "metadata": {},
   "outputs": [
    {
     "name": "stdout",
     "output_type": "stream",
     "text": [
      "Train on 140 samples, validate on 60 samples\n",
      "Epoch 1/25\n",
      "140/140 [==============================] - 4s 28ms/step - loss: 6.8906 - accuracy: 0.5357 - val_loss: 0.6270 - val_accuracy: 0.6667\n",
      "Epoch 2/25\n",
      "140/140 [==============================] - 0s 2ms/step - loss: 0.6983 - accuracy: 0.6286 - val_loss: 0.6443 - val_accuracy: 0.6667\n",
      "Epoch 3/25\n",
      "140/140 [==============================] - 0s 2ms/step - loss: 0.6446 - accuracy: 0.7214 - val_loss: 1.1280 - val_accuracy: 0.5000\n",
      "Epoch 4/25\n",
      "140/140 [==============================] - 0s 2ms/step - loss: 0.7706 - accuracy: 0.6643 - val_loss: 0.9409 - val_accuracy: 0.5000\n",
      "Epoch 5/25\n",
      "140/140 [==============================] - 0s 2ms/step - loss: 0.8033 - accuracy: 0.6143 - val_loss: 0.7768 - val_accuracy: 0.5167\n",
      "Epoch 6/25\n",
      "140/140 [==============================] - 0s 2ms/step - loss: 0.5826 - accuracy: 0.7143 - val_loss: 0.6048 - val_accuracy: 0.6167\n",
      "Epoch 7/25\n",
      "140/140 [==============================] - 0s 2ms/step - loss: 0.5247 - accuracy: 0.7929 - val_loss: 0.5726 - val_accuracy: 0.7667\n",
      "Epoch 8/25\n",
      "140/140 [==============================] - 0s 2ms/step - loss: 0.3192 - accuracy: 0.8786 - val_loss: 0.5371 - val_accuracy: 0.7333\n",
      "Epoch 9/25\n",
      "140/140 [==============================] - 0s 2ms/step - loss: 0.4126 - accuracy: 0.8357 - val_loss: 0.5886 - val_accuracy: 0.7333\n",
      "Epoch 10/25\n",
      "140/140 [==============================] - 0s 2ms/step - loss: 0.3758 - accuracy: 0.9071 - val_loss: 0.7073 - val_accuracy: 0.6833\n",
      "Epoch 11/25\n",
      "140/140 [==============================] - 0s 2ms/step - loss: 0.2281 - accuracy: 0.9143 - val_loss: 0.6043 - val_accuracy: 0.8000\n",
      "Epoch 12/25\n",
      "140/140 [==============================] - 0s 2ms/step - loss: 0.3151 - accuracy: 0.9214 - val_loss: 0.7409 - val_accuracy: 0.6833\n",
      "Epoch 13/25\n",
      "140/140 [==============================] - 0s 2ms/step - loss: 0.1550 - accuracy: 0.9357 - val_loss: 0.8021 - val_accuracy: 0.8167\n",
      "Epoch 14/25\n",
      "140/140 [==============================] - 0s 2ms/step - loss: 0.0524 - accuracy: 0.9786 - val_loss: 1.0790 - val_accuracy: 0.8000\n",
      "Epoch 15/25\n",
      "140/140 [==============================] - 0s 2ms/step - loss: 0.2233 - accuracy: 0.9214 - val_loss: 0.7000 - val_accuracy: 0.7500\n",
      "Epoch 16/25\n",
      "140/140 [==============================] - 0s 2ms/step - loss: 0.0255 - accuracy: 1.0000 - val_loss: 1.0130 - val_accuracy: 0.7500\n",
      "Epoch 17/25\n",
      "140/140 [==============================] - 0s 2ms/step - loss: 0.1304 - accuracy: 0.9500 - val_loss: 2.0364 - val_accuracy: 0.5000\n",
      "Epoch 18/25\n",
      "140/140 [==============================] - 0s 2ms/step - loss: 0.0988 - accuracy: 0.9571 - val_loss: 0.6876 - val_accuracy: 0.8000\n",
      "Epoch 19/25\n",
      "140/140 [==============================] - 0s 2ms/step - loss: 0.0077 - accuracy: 1.0000 - val_loss: 1.7428 - val_accuracy: 0.7167\n",
      "Epoch 20/25\n",
      "140/140 [==============================] - 0s 2ms/step - loss: 0.2420 - accuracy: 0.9357 - val_loss: 1.1400 - val_accuracy: 0.7167\n",
      "Epoch 21/25\n",
      "140/140 [==============================] - 0s 2ms/step - loss: 0.1839 - accuracy: 0.9214 - val_loss: 0.8644 - val_accuracy: 0.7500\n",
      "Epoch 22/25\n",
      "140/140 [==============================] - 0s 2ms/step - loss: 0.0769 - accuracy: 0.9857 - val_loss: 0.9648 - val_accuracy: 0.7000\n",
      "Epoch 23/25\n",
      "140/140 [==============================] - 0s 2ms/step - loss: 0.0247 - accuracy: 0.9929 - val_loss: 0.7981 - val_accuracy: 0.7167\n",
      "Epoch 24/25\n",
      "140/140 [==============================] - 0s 2ms/step - loss: 0.0076 - accuracy: 1.0000 - val_loss: 1.4394 - val_accuracy: 0.7000\n",
      "Epoch 25/25\n",
      "140/140 [==============================] - 0s 2ms/step - loss: 0.0263 - accuracy: 0.9857 - val_loss: 0.8659 - val_accuracy: 0.6833\n"
     ]
    },
    {
     "data": {
      "text/plain": [
       "<keras.callbacks.callbacks.History at 0x7f6ac0575518>"
      ]
     },
     "execution_count": 11,
     "metadata": {},
     "output_type": "execute_result"
    }
   ],
   "source": [
    "import os\n",
    "import keras\n",
    "batch_size=16\n",
    "epochs=25\n",
    "\n",
    "model.fit(x_train, y_train,\n",
    "          batch_size=batch_size,\n",
    "          epochs=epochs,\n",
    "          validation_data=(x_test, y_test),shuffle=True)"
   ]
  },
  {
   "cell_type": "code",
   "execution_count": 12,
   "metadata": {},
   "outputs": [
    {
     "name": "stdout",
     "output_type": "stream",
     "text": [
      "60/60 [==============================] - 0s 4ms/step\n",
      "LOSS:  0.8659270763397217\n",
      "ACCURACY:  0.6833333373069763\n"
     ]
    }
   ],
   "source": [
    "score=model.evaluate(x_test,y_test,verbose=1)\n",
    "print('LOSS: ',score[0])\n",
    "print('ACCURACY: ',score[1])"
   ]
  },
  {
   "cell_type": "code",
   "execution_count": 13,
   "metadata": {},
   "outputs": [],
   "source": [
    "train_data_dir = './kaggle/input/stemsets/train'\n",
    "validation_data_dir = './kaggle/input/stemsets/validation'"
   ]
  },
  {
   "cell_type": "code",
   "execution_count": 14,
   "metadata": {},
   "outputs": [],
   "source": [
    "from keras.preprocessing.image import ImageDataGenerator\n",
    "validation_datagen = ImageDataGenerator(rescale = 1./255)\n",
    "train_datagen = ImageDataGenerator(\n",
    "      rescale = 1./255,             \n",
    "      rotation_range = 30,          \n",
    "      width_shift_range = 0.3,       \n",
    "      height_shift_range = 0.3,      \n",
    "      horizontal_flip = True,      \n",
    "      fill_mode = 'nearest')   "
   ]
  },
  {
   "cell_type": "code",
   "execution_count": 15,
   "metadata": {},
   "outputs": [
    {
     "name": "stdout",
     "output_type": "stream",
     "text": [
      "Found 140 images belonging to 2 classes.\n",
      "Found 60 images belonging to 2 classes.\n"
     ]
    }
   ],
   "source": [
    "input_shape = (150, 150, 3)\n",
    "img_width = 150\n",
    "img_height = 150\n",
    "train_generator = train_datagen.flow_from_directory(\n",
    "        train_data_dir,\n",
    "        target_size = (img_width, img_height),\n",
    "        batch_size = batch_size,\n",
    "        class_mode = 'binary',\n",
    "        shuffle = True)\n",
    "\n",
    "validation_generator = validation_datagen.flow_from_directory(\n",
    "        validation_data_dir,\n",
    "        target_size = (img_width, img_height),\n",
    "        batch_size = batch_size,\n",
    "        class_mode = 'binary',\n",
    "        shuffle = False)    "
   ]
  },
  {
   "cell_type": "code",
   "execution_count": 16,
   "metadata": {},
   "outputs": [],
   "source": [
    "from keras.optimizers import RMSprop\n",
    "from keras.callbacks import ModelCheckpoint, EarlyStopping\n",
    "earlystopping=EarlyStopping(monitor='val_loss',min_delta=0,patience=3,verbose=1,restore_best_weights=True)\n",
    "checkpoint=ModelCheckpoint('./checkpoint.pth', monitor='val_accuracy', verbose=1, save_best_only=True, mode='max')"
   ]
  },
  {
   "cell_type": "code",
   "execution_count": 17,
   "metadata": {},
   "outputs": [],
   "source": [
    "callbacks=[earlystopping,checkpoint]"
   ]
  },
  {
   "cell_type": "code",
   "execution_count": 18,
   "metadata": {},
   "outputs": [],
   "source": [
    "input_shape=(x_train[0].shape[0],x_train[1].shape[0],3)\n",
    "model=Sequential()\n",
    "model.add(Conv2D(32,kernel_size=(3,3),activation=\"relu\",input_shape=input_shape))\n",
    "model.add(Conv2D(32,kernel_size=(3,3),activation=\"relu\",input_shape=input_shape))\n",
    "model.add(Conv2D(64,(3,3),activation=\"relu\"))\n",
    "model.add(MaxPooling2D(pool_size=(2,2)))\n",
    "model.add(Flatten())\n",
    "model.add(Dense(64,activation=\"relu\"))\n",
    "model.add(Dropout(0.5))\n",
    "model.add(Dense(1,activation=\"sigmoid\"))\n",
    "model.compile(loss='binary_crossentropy',optimizer='rmsprop',metrics=['accuracy'])"
   ]
  },
  {
   "cell_type": "code",
   "execution_count": 19,
   "metadata": {},
   "outputs": [
    {
     "name": "stdout",
     "output_type": "stream",
     "text": [
      "Train on 140 samples, validate on 60 samples\n",
      "Epoch 1/25\n",
      "140/140 [==============================] - 1s 4ms/step - loss: 4.6888 - accuracy: 0.5786 - val_loss: 0.8011 - val_accuracy: 0.5000\n",
      "\n",
      "Epoch 00001: val_accuracy improved from -inf to 0.50000, saving model to ./checkpoint.pth\n",
      "Epoch 2/25\n",
      "140/140 [==============================] - 0s 2ms/step - loss: 0.7568 - accuracy: 0.6357 - val_loss: 0.6583 - val_accuracy: 0.6833\n",
      "\n",
      "Epoch 00002: val_accuracy improved from 0.50000 to 0.68333, saving model to ./checkpoint.pth\n",
      "Epoch 3/25\n",
      "140/140 [==============================] - 0s 2ms/step - loss: 0.5866 - accuracy: 0.7214 - val_loss: 0.6102 - val_accuracy: 0.6667\n",
      "\n",
      "Epoch 00003: val_accuracy did not improve from 0.68333\n",
      "Epoch 4/25\n",
      "140/140 [==============================] - 0s 2ms/step - loss: 0.5718 - accuracy: 0.7714 - val_loss: 0.7513 - val_accuracy: 0.5167\n",
      "\n",
      "Epoch 00004: val_accuracy did not improve from 0.68333\n",
      "Epoch 5/25\n",
      "140/140 [==============================] - 0s 2ms/step - loss: 0.4647 - accuracy: 0.8000 - val_loss: 0.6207 - val_accuracy: 0.7000\n",
      "\n",
      "Epoch 00005: val_accuracy improved from 0.68333 to 0.70000, saving model to ./checkpoint.pth\n",
      "Epoch 6/25\n",
      "140/140 [==============================] - 0s 2ms/step - loss: 0.3621 - accuracy: 0.8857 - val_loss: 0.6597 - val_accuracy: 0.6667\n",
      "Restoring model weights from the end of the best epoch\n",
      "\n",
      "Epoch 00006: val_accuracy did not improve from 0.70000\n",
      "Epoch 00006: early stopping\n"
     ]
    },
    {
     "data": {
      "text/plain": [
       "<keras.callbacks.callbacks.History at 0x7f66ca2bc048>"
      ]
     },
     "execution_count": 19,
     "metadata": {},
     "output_type": "execute_result"
    }
   ],
   "source": [
    "import os\n",
    "import keras\n",
    "batch_size=16\n",
    "epochs=25\n",
    "\n",
    "model.fit(x_train, y_train,\n",
    "          batch_size=batch_size,\n",
    "          epochs=epochs, callbacks=callbacks,\n",
    "          validation_data=(x_test, y_test),shuffle=True)"
   ]
  },
  {
   "cell_type": "code",
   "execution_count": 20,
   "metadata": {},
   "outputs": [
    {
     "name": "stdout",
     "output_type": "stream",
     "text": [
      "60/60 [==============================] - 0s 511us/step\n",
      "LOSS:  0.6101635535558064\n",
      "ACCURACY:  0.6666666865348816\n"
     ]
    }
   ],
   "source": [
    "score=model.evaluate(x_test,y_test,verbose=1)\n",
    "print('LOSS: ',score[0])\n",
    "print('ACCURACY: ',score[1])"
   ]
  },
  {
   "cell_type": "code",
   "execution_count": 21,
   "metadata": {},
   "outputs": [],
   "source": [
    "model.save(\"./modelsaved.pth\")\n"
   ]
  },
  {
   "cell_type": "code",
   "execution_count": 22,
   "metadata": {},
   "outputs": [
    {
     "data": {
      "text/plain": [
       "array([[0],\n",
       "       [1],\n",
       "       [1],\n",
       "       [1],\n",
       "       [1],\n",
       "       [0],\n",
       "       [0],\n",
       "       [0],\n",
       "       [1],\n",
       "       [1],\n",
       "       [1],\n",
       "       [1],\n",
       "       [1],\n",
       "       [1],\n",
       "       [0],\n",
       "       [1],\n",
       "       [1],\n",
       "       [1],\n",
       "       [0],\n",
       "       [1],\n",
       "       [1],\n",
       "       [0],\n",
       "       [1],\n",
       "       [1],\n",
       "       [1],\n",
       "       [1],\n",
       "       [1],\n",
       "       [1],\n",
       "       [0],\n",
       "       [1],\n",
       "       [1],\n",
       "       [1],\n",
       "       [1],\n",
       "       [0],\n",
       "       [1],\n",
       "       [0],\n",
       "       [1],\n",
       "       [0],\n",
       "       [1],\n",
       "       [1],\n",
       "       [0],\n",
       "       [1],\n",
       "       [0],\n",
       "       [1],\n",
       "       [1],\n",
       "       [1],\n",
       "       [1],\n",
       "       [1],\n",
       "       [0],\n",
       "       [1],\n",
       "       [1],\n",
       "       [1],\n",
       "       [1],\n",
       "       [0],\n",
       "       [1],\n",
       "       [0],\n",
       "       [1],\n",
       "       [1],\n",
       "       [1],\n",
       "       [1]], dtype=int32)"
      ]
     },
     "execution_count": 22,
     "metadata": {},
     "output_type": "execute_result"
    }
   ],
   "source": [
    "y_pred=model.predict_classes(x_test)\n",
    "y_pred"
   ]
  },
  {
   "cell_type": "code",
   "execution_count": 23,
   "metadata": {},
   "outputs": [
    {
     "data": {
      "text/plain": [
       "array([[0],\n",
       "       [1],\n",
       "       [1],\n",
       "       [1],\n",
       "       [1],\n",
       "       [0],\n",
       "       [0],\n",
       "       [0],\n",
       "       [1],\n",
       "       [1],\n",
       "       [1],\n",
       "       [1],\n",
       "       [1],\n",
       "       [1],\n",
       "       [0],\n",
       "       [1],\n",
       "       [1],\n",
       "       [1],\n",
       "       [0],\n",
       "       [1],\n",
       "       [1],\n",
       "       [0],\n",
       "       [1],\n",
       "       [1],\n",
       "       [1],\n",
       "       [1],\n",
       "       [1],\n",
       "       [1],\n",
       "       [0],\n",
       "       [1],\n",
       "       [1],\n",
       "       [1],\n",
       "       [1],\n",
       "       [0],\n",
       "       [1],\n",
       "       [0],\n",
       "       [1],\n",
       "       [0],\n",
       "       [1],\n",
       "       [1],\n",
       "       [0],\n",
       "       [1],\n",
       "       [0],\n",
       "       [1],\n",
       "       [1],\n",
       "       [1],\n",
       "       [1],\n",
       "       [1],\n",
       "       [0],\n",
       "       [1],\n",
       "       [1],\n",
       "       [1],\n",
       "       [1],\n",
       "       [0],\n",
       "       [1],\n",
       "       [0],\n",
       "       [1],\n",
       "       [1],\n",
       "       [1],\n",
       "       [1]], dtype=int32)"
      ]
     },
     "execution_count": 23,
     "metadata": {},
     "output_type": "execute_result"
    }
   ],
   "source": [
    "y_pred[:]"
   ]
  },
  {
   "cell_type": "code",
   "execution_count": 24,
   "metadata": {},
   "outputs": [],
   "source": [
    "import cv2\n",
    "import numpy as np\n",
    "from keras.models import load_model\n",
    "\n",
    "classifier = load_model('./modelsaved.pth')\n",
    "\n",
    "\n",
    "\n",
    "\n",
    "\n",
    "    "
   ]
  },
  {
   "cell_type": "code",
   "execution_count": 25,
   "metadata": {},
   "outputs": [
    {
     "name": "stdout",
     "output_type": "stream",
     "text": [
      "good \n",
      "actual :  [1]\n",
      "predicted :  [1]\n"
     ]
    },
    {
     "data": {
      "image/png": "[encoded data removed]",
      "text/plain": [
       "<Figure size 216x216 with 1 Axes>"
      ]
     },
     "metadata": {
      "needs_background": "light"
     },
     "output_type": "display_data"
    }
   ],
   "source": [
    "import cv2\n",
    "from matplotlib import pyplot as plt\n",
    "x=np.random.randint(0,len(x_test))\n",
    "image=x_test[x]\n",
    "plt.figure(figsize=(3,3))\n",
    "plt.imshow(image)\n",
    "if(y_pred[x]==[1]):\n",
    "    print(\"good \")\n",
    "else:\n",
    "    print(\"bad \")\n",
    "print('actual : ',y_test[x])\n",
    "print('predicted : ',y_pred[x])\n"
   ]
  },
  {
   "cell_type": "code",
   "execution_count": 26,
   "metadata": {},
   "outputs": [],
   "source": [
    "Predicted=pd.DataFrame(y_pred)\n",
    "Real=pd.DataFrame(y_test)\n",
    "Final=pd.concat([Predicted,Real], axis=1, join='inner')\n",
    "pd.DataFrame(Final).to_csv(\"Submission_1.csv\",index=False)"
   ]
  },
  {
   "cell_type": "code",
   "execution_count": null,
   "metadata": {},
   "outputs": [],
   "source": []
  },
  {
   "cell_type": "code",
   "execution_count": null,
   "metadata": {},
   "outputs": [],
   "source": []
  }
 ],
 "metadata": {
  "kernelspec": {
   "display_name": "Python 3",
   "language": "python",
   "name": "python3"
  },
  "language_info": {
   "codemirror_mode": {
    "name": "ipython",
    "version": 3
   },
   "file_extension": ".py",
   "mimetype": "text/x-python",
   "name": "python",
   "nbconvert_exporter": "python",
   "pygments_lexer": "ipython3",
   "version": "3.6.6"
  }
 },
 "nbformat": 4,
 "nbformat_minor": 1
}
